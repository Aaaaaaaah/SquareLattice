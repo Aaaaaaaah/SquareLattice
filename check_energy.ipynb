{
 "cells": [
  {
   "cell_type": "code",
   "execution_count": 8,
   "metadata": {
    "collapsed": true
   },
   "outputs": [],
   "source": [
    "import numpy as np\n",
    "from node import Node\n",
    "from tool import very_simple_contract\n",
    "from energy import square_lattice\n",
    "D = 4"
   ]
  },
  {
   "cell_type": "code",
   "execution_count": 2,
   "metadata": {
    "collapsed": true
   },
   "outputs": [],
   "source": [
    "def tagsit(x,y):\n",
    "    ans = []\n",
    "    if (x-1) in range(4):\n",
    "        ans.append(\"u\")\n",
    "    if (y-1) in range(4):\n",
    "        ans.append(\"l\")\n",
    "    if (x+1) in range(4):\n",
    "        ans.append(\"d\")\n",
    "    if (y+1) in range(4):\n",
    "        ans.append(\"r\")\n",
    "    return ans"
   ]
  },
  {
   "cell_type": "code",
   "execution_count": 5,
   "metadata": {
    "collapsed": true
   },
   "outputs": [],
   "source": [
    "A = [[Node(tagsit(i,j), [D]*len(tagsit(i,j)), normf=False) for j in range(4)]for i in range(4)]"
   ]
  },
  {
   "cell_type": "code",
   "execution_count": 7,
   "metadata": {},
   "outputs": [
    {
     "data": {
      "text/plain": [
       "array(5910208638.749435)"
      ]
     },
     "execution_count": 7,
     "metadata": {},
     "output_type": "execute_result"
    }
   ],
   "source": [
    "very_simple_contract(A, 4, 4)"
   ]
  },
  {
   "cell_type": "code",
   "execution_count": 11,
   "metadata": {},
   "outputs": [
    {
     "data": {
      "text/plain": [
       "array(5910209905.130056)"
      ]
     },
     "execution_count": 11,
     "metadata": {},
     "output_type": "execute_result"
    }
   ],
   "source": [
    "B = square_lattice.contract_two_row(A[3], A[2])\n",
    "B = square_lattice.contract_two_row(B, A[1])\n",
    "very_simple_contract([A[0], B], 2, 4)"
   ]
  },
  {
   "cell_type": "code",
   "execution_count": 3,
   "metadata": {},
   "outputs": [],
   "source": [
    "import numpy as np\n",
    "from node import Node\n",
    "\n",
    "L1 = 4\n",
    "L2 = 4\n",
    "D = 4\n",
    "\n",
    "#   u\n",
    "# l   r\n",
    "#   d\n",
    "\n",
    "def _node(s):\n",
    "    l = [D]*len(s)\n",
    "    l.append(2)\n",
    "    return Node(list(s)+[\"p\"],l)\n",
    "\n",
    "def node_in_lattice(i,j):\n",
    "    s = \"udrl\"\n",
    "    if i == 0:\n",
    "        s = s.replace(\"u\",\"\")\n",
    "    if i == L1-1:\n",
    "        s = s.replace(\"d\",\"\")\n",
    "    if j == 0:\n",
    "        s = s.replace(\"l\",\"\")\n",
    "    if j == L2-1:\n",
    "        s = s.replace(\"r\",\"\")\n",
    "    return _node(s)\n",
    "\n",
    "lattice = [[node_in_lattice(i,j) for j in range(L2)] for i in range(L1)]\n",
    "\n",
    "ep = 0.1\n",
    "\n",
    "H = np.reshape([[0.25,0,0,0],[0,-0.25,0.5,0],[0,0.5,-0.25,0],[0,0,0,0.25]],[2,2,2,2])\n",
    "I = np.reshape(np.identity(4),[2,2,2,2])\n",
    "expH = I - 4.*ep*H"
   ]
  },
  {
   "cell_type": "code",
   "execution_count": 4,
   "metadata": {
    "collapsed": true
   },
   "outputs": [],
   "source": [
    "for t in range(100):\n",
    "    for i in range(0,L1):\n",
    "        for j in range(0,L2-1,2):\n",
    "            Node.update(lattice[i][j],lattice[i][j+1],\"r\",\"l\",\"p\",\"p\",expH)\n",
    "    for i in range(0,L1):\n",
    "        for j in range(1,L2-1,2):\n",
    "            Node.update(lattice[i][j],lattice[i][j+1],\"r\",\"l\",\"p\",\"p\",expH)\n",
    "    for j in range(0,L2):\n",
    "        for i in range(0,L1-1,2):\n",
    "            Node.update(lattice[i][j],lattice[i+1][j],\"d\",\"u\",\"p\",\"p\",expH)\n",
    "    for j in range(0,L2):\n",
    "        for i in range(1,L1-1,2):\n",
    "            Node.update(lattice[i][j],lattice[i+1][j],\"d\",\"u\",\"p\",\"p\",expH)"
   ]
  },
  {
   "cell_type": "code",
   "execution_count": 5,
   "metadata": {
    "collapsed": true
   },
   "outputs": [],
   "source": [
    "from energy import square_lattice"
   ]
  },
  {
   "cell_type": "code",
   "execution_count": 8,
   "metadata": {},
   "outputs": [],
   "source": [
    "A = square_lattice(lattice, \"p\", 4, 4, H)"
   ]
  },
  {
   "cell_type": "code",
   "execution_count": 33,
   "metadata": {},
   "outputs": [],
   "source": [
    "test = [[Node.copy(A.redu_tensor[i][j][A.spins[i][j]]) for j in range(4)] for i in range(4)]"
   ]
  },
  {
   "cell_type": "code",
   "execution_count": 24,
   "metadata": {},
   "outputs": [
    {
     "name": "stdout",
     "output_type": "stream",
     "text": [
      "[[1, 0, 1, 0], [0, 1, 0, 1], [1, 0, 1, 0], [0, 1, 0, 1]]\n",
      "saving:  42405\n",
      "-100.3621133219157\n"
     ]
    }
   ],
   "source": [
    "A.spins = [[1,0,1,0],\n",
    "           [0,1,0,1],\n",
    "           [1,0,1,0],\n",
    "           [0,1,0,1]]\n",
    "print(A.spins)\n",
    "print(A.calc_cnfig_weight())"
   ]
  },
  {
   "cell_type": "code",
   "execution_count": 32,
   "metadata": {},
   "outputs": [
    {
     "data": {
      "text/plain": [
       "array([  1.49773779e-05,  -8.62971946e-03,  -2.66716871e-10,\n",
       "        -8.69168720e-19])"
      ]
     },
     "execution_count": 32,
     "metadata": {},
     "output_type": "execute_result"
    }
   ],
   "source": [
    "np.linalg.det(A.redu_tensor[0][1][0].data)"
   ]
  },
  {
   "cell_type": "code",
   "execution_count": 37,
   "metadata": {},
   "outputs": [
    {
     "data": {
      "text/plain": [
       "array(-102.94979303074376)"
      ]
     },
     "execution_count": 37,
     "metadata": {},
     "output_type": "execute_result"
    }
   ],
   "source": [
    "very_simple_contract(test,4,4)"
   ]
  },
  {
   "cell_type": "code",
   "execution_count": 48,
   "metadata": {},
   "outputs": [],
   "source": [
    "x = test[1][1]"
   ]
  },
  {
   "cell_type": "code",
   "execution_count": 47,
   "metadata": {},
   "outputs": [
    {
     "name": "stdout",
     "output_type": "stream",
     "text": [
      "9.303158688112015\n"
     ]
    }
   ],
   "source": [
    "print(Node.contract(x,x.tags,x,x.tags).data)"
   ]
  },
  {
   "cell_type": "code",
   "execution_count": null,
   "metadata": {
    "collapsed": true
   },
   "outputs": [],
   "source": []
  }
 ],
 "metadata": {
  "kernelspec": {
   "display_name": "Python 3",
   "language": "python",
   "name": "python3"
  },
  "language_info": {
   "codemirror_mode": {
    "name": "ipython",
    "version": 3
   },
   "file_extension": ".py",
   "mimetype": "text/x-python",
   "name": "python",
   "nbconvert_exporter": "python",
   "pygments_lexer": "ipython3",
   "version": "3.6.2"
  }
 },
 "nbformat": 4,
 "nbformat_minor": 2
}
