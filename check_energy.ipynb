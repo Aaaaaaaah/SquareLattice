{
 "cells": [
  {
   "cell_type": "code",
   "execution_count": 8,
   "metadata": {},
   "outputs": [],
   "source": [
    "import numpy as np\n",
    "from node import Node\n",
    "from tool import very_simple_contract\n",
    "from energy import square_lattice\n",
    "D = 4"
   ]
  },
  {
   "cell_type": "code",
   "execution_count": 2,
   "metadata": {
    "collapsed": true
   },
   "outputs": [],
   "source": [
    "def tagsit(x,y):\n",
    "    ans = []\n",
    "    if (x-1) in range(4):\n",
    "        ans.append(\"u\")\n",
    "    if (y-1) in range(4):\n",
    "        ans.append(\"l\")\n",
    "    if (x+1) in range(4):\n",
    "        ans.append(\"d\")\n",
    "    if (y+1) in range(4):\n",
    "        ans.append(\"r\")\n",
    "    return ans"
   ]
  },
  {
   "cell_type": "code",
   "execution_count": 5,
   "metadata": {},
   "outputs": [],
   "source": [
    "A = [[Node(tagsit(i,j), [D]*len(tagsit(i,j)), normf=False) for j in range(4)]for i in range(4)]"
   ]
  },
  {
   "cell_type": "code",
   "execution_count": 7,
   "metadata": {},
   "outputs": [
    {
     "data": {
      "text/plain": [
       "array(5910208638.749435)"
      ]
     },
     "execution_count": 7,
     "metadata": {},
     "output_type": "execute_result"
    }
   ],
   "source": [
    "very_simple_contract(A, 4, 4)"
   ]
  },
  {
   "cell_type": "code",
   "execution_count": 11,
   "metadata": {},
   "outputs": [
    {
     "data": {
      "text/plain": [
       "array(5910209905.130056)"
      ]
     },
     "execution_count": 11,
     "metadata": {},
     "output_type": "execute_result"
    }
   ],
   "source": [
    "B = square_lattice.contract_two_row(A[3], A[2])\n",
    "B = square_lattice.contract_two_row(B, A[1])\n",
    "very_simple_contract([A[0], B], 2, 4)"
   ]
  },
  {
   "cell_type": "code",
   "execution_count": null,
   "metadata": {
    "collapsed": true
   },
   "outputs": [],
   "source": []
  }
 ],
 "metadata": {
  "kernelspec": {
   "display_name": "Python 3",
   "language": "python",
   "name": "python3"
  },
  "language_info": {
   "codemirror_mode": {
    "name": "ipython",
    "version": 3
   },
   "file_extension": ".py",
   "mimetype": "text/x-python",
   "name": "python",
   "nbconvert_exporter": "python",
   "pygments_lexer": "ipython3",
   "version": "3.6.2"
  }
 },
 "nbformat": 4,
 "nbformat_minor": 2
}
