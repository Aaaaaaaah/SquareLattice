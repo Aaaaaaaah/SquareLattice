{
 "cells": [
  {
   "cell_type": "code",
   "execution_count": 5,
   "metadata": {
    "collapsed": true
   },
   "outputs": [],
   "source": [
    "import numpy as np\n",
    "from node import Node\n",
    "from energy import square_lattice\n",
    "from tool import *"
   ]
  },
  {
   "cell_type": "code",
   "execution_count": 6,
   "metadata": {
    "scrolled": true
   },
   "outputs": [
    {
     "name": "stdout",
     "output_type": "stream",
     "text": [
      "0\n",
      "1\n",
      "2\n",
      "3\n",
      "4\n",
      "5\n",
      "6\n",
      "7\n",
      "8\n",
      "9\n"
     ]
    }
   ],
   "source": [
    "run sl.py"
   ]
  },
  {
   "cell_type": "code",
   "execution_count": 7,
   "metadata": {
    "collapsed": true
   },
   "outputs": [],
   "source": [
    "A = square_lattice(lattice, \"p\", 4, 4, H)"
   ]
  },
  {
   "cell_type": "code",
   "execution_count": 10,
   "metadata": {},
   "outputs": [
    {
     "name": "stdout",
     "output_type": "stream",
     "text": [
      "0.05918154384587354\n",
      "0 4.797362753764659\n",
      "1 0.002857855006489643\n",
      "2 0.015988259653567063\n",
      "3 0.058785244495486194\n",
      "2 0.05878524449548618\n",
      "1 0.058785244495486236\n",
      "0 0.05915137145748963\n",
      "1 0.05915137145748966\n",
      "2 0.05915137145748958\n"
     ]
    }
   ],
   "source": [
    "psi = [i[0] for i in A.redu_tensor[-1]]\n",
    "operator = [i[0] for i in A.redu_tensor[-2]]\n",
    "ans = A.contract_two_row(psi, operator)"
   ]
  },
  {
   "cell_type": "code",
   "execution_count": null,
   "metadata": {
    "collapsed": true
   },
   "outputs": [],
   "source": []
  }
 ],
 "metadata": {
  "kernelspec": {
   "display_name": "Python 3",
   "language": "python",
   "name": "python3"
  },
  "language_info": {
   "codemirror_mode": {
    "name": "ipython",
    "version": 3
   },
   "file_extension": ".py",
   "mimetype": "text/x-python",
   "name": "python",
   "nbconvert_exporter": "python",
   "pygments_lexer": "ipython3",
   "version": "3.6.2"
  }
 },
 "nbformat": 4,
 "nbformat_minor": 2
}
