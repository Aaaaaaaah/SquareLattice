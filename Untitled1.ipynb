{
 "cells": [
  {
   "cell_type": "code",
   "execution_count": 2,
   "metadata": {},
   "outputs": [
    {
     "name": "stdout",
     "output_type": "stream",
     "text": [
      "norm =  1.3163431133663668\n"
     ]
    }
   ],
   "source": [
    "import numpy as np\n",
    "from node import Node\n",
    "import sl\n",
    "\n",
    "tmp = Node([], [], data = [1], normf=False)\n",
    "for i,x in enumerate(sl.lattice):\n",
    "    for j,y in enumerate(x):\n",
    "        for k in [\"u\",\"d\",\"r\",\"l\",\"p\"]:\n",
    "            if k in y.tags:\n",
    "                y.rename_leg({k:k+str(i)+str(j)})\n",
    "\n",
    "for i,j in enumerate(sl.lattice):\n",
    "    for k,p in enumerate(j):\n",
    "        tags1 = []\n",
    "        tags2 = []\n",
    "        if (i-1) in range(4):\n",
    "            tags1.append(\"d%s%s\"%(str(i-1),str(k)))\n",
    "            tags2.append(\"u%s%s\"%(str(i),str(k)))\n",
    "        if (k-1) in range(4):\n",
    "            tags1.append(\"r%s%s\"%(str(i),str(k-1)))\n",
    "            tags2.append(\"l%s%s\"%(str(i),str(k)))\n",
    "        tmp = Node.contract(tmp, tags1, p, tags2)\n",
    "\n",
    "norm = Node.contract(tmp, [\"p%s%s\" % (str(i),str(j)) for j in range(4) for i in range(4)] \\\n",
    "                     , tmp, [\"p%s%s\" % (str(i),str(j)) for j in range(4) for i in range(4)])\n",
    "print(\"norm = \", norm.data)"
   ]
  },
  {
   "cell_type": "code",
   "execution_count": 3,
   "metadata": {},
   "outputs": [
    {
     "name": "stdout",
     "output_type": "stream",
     "text": [
      "[-0.5628105]\n"
     ]
    }
   ],
   "source": [
    "H = Node([\"d1\",\"d2\",\"u1\",\"u2\"], [2,2,2,2], np.array(sl.H), normf=False)\n",
    "E = np.array([0.0])\n",
    "for i in range(4):\n",
    "    for j in range(3):\n",
    "        tmp2 = Node.contract(tmp, [\"p%s%s\"%(str(i),str(j)), \"p%s%s\"%(str(i),str(j+1))], H, [\"d1\",\"d2\"], {}, \\\n",
    "                             {\"u1\":\"p%s%s\"%(str(i),str(j)),\"u2\":\"p%s%s\"%(str(i),str(j+1))})\n",
    "        tmp2 = Node.contract(tmp2, [\"p%s%s\" % (str(p),str(q)) for p in range(4) for q in range(4)], tmp, \\\n",
    "                             [\"p%s%s\" % (str(p),str(q)) for p in range(4) for q in range(4)])\n",
    "        E += tmp2.data / norm.data\n",
    "        tmp2 = Node.contract(tmp, [\"p%s%s\"%(str(j),str(i)), \"p%s%s\"%(str(j+1),str(i))], H, [\"d1\",\"d2\"], {}, \\\n",
    "                             {\"u1\":\"p%s%s\"%(str(j),str(i)),\"u2\":\"p%s%s\"%(str(j+1),str(i))})\n",
    "        tmp2 = Node.contract(tmp2, [\"p%s%s\" % (str(p),str(q)) for p in range(4) for q in range(4)], tmp, \\\n",
    "                             [\"p%s%s\" % (str(p),str(q)) for p in range(4) for q in range(4)])\n",
    "        E += tmp2.data / norm.data\n",
    "print(E / 16.0)"
   ]
  },
  {
   "cell_type": "code",
   "execution_count": null,
   "metadata": {
    "collapsed": true
   },
   "outputs": [],
   "source": []
  }
 ],
 "metadata": {
  "kernelspec": {
   "display_name": "Python 3",
   "language": "python",
   "name": "python3"
  },
  "language_info": {
   "codemirror_mode": {
    "name": "ipython",
    "version": 3
   },
   "file_extension": ".py",
   "mimetype": "text/x-python",
   "name": "python",
   "nbconvert_exporter": "python",
   "pygments_lexer": "ipython3",
   "version": "3.6.2"
  }
 },
 "nbformat": 4,
 "nbformat_minor": 2
}
