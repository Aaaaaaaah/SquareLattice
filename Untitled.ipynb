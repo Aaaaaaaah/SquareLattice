{
 "cells": [
  {
   "cell_type": "code",
   "execution_count": 1,
   "metadata": {
    "collapsed": true
   },
   "outputs": [],
   "source": [
    "import numpy as np\n",
    "from node import Node"
   ]
  },
  {
   "cell_type": "code",
   "execution_count": 2,
   "metadata": {
    "collapsed": true
   },
   "outputs": [],
   "source": [
    "HH = [[0.25,0.0,0.0,0.0],[0.0,-0.25,0.5,0.0],[0.0,0.5,-0.25,0.0],[0.0,0.0,0.0,0.25]]"
   ]
  },
  {
   "cell_type": "code",
   "execution_count": 3,
   "metadata": {
    "collapsed": true
   },
   "outputs": [],
   "source": [
    "H = Node([\"u\",\"d\",\"l\",\"r\"],[2,2,2,2],HH)"
   ]
  },
  {
   "cell_type": "code",
   "execution_count": 12,
   "metadata": {
    "collapsed": true
   },
   "outputs": [],
   "source": [
    "Test1 = [[Node([\"d\",\"r\"],[2,3],normf=False),\n",
    "          Node([\"l\",\"d\"],[3,4],normf=False)],\n",
    "         [Node([\"u\",\"r\"],[2,3],normf=False),\n",
    "          Node([\"l\",\"u\"],[3,4],normf=False)]]\n",
    "Test2 = [[Node.copy(j) for j in i]for i in Test1]\n",
    "for i in Test2:\n",
    "    for j in i:\n",
    "        j.normf = True\n",
    "        j.normf = False"
   ]
  },
  {
   "cell_type": "code",
   "execution_count": 9,
   "metadata": {
    "collapsed": true
   },
   "outputs": [],
   "source": [
    "def contract_2_2(latt):\n",
    "    ans = Node.contract(latt[0][0],[\"r\"],latt[0][1],[\"l\"],{},{\"d\":\"d2\"})\n",
    "    ans = Node.contract(ans, [\"d\"], latt[1][0], [\"u\"])\n",
    "    ans = Node.contract(ans, [\"r\",\"d2\"], latt[1][1], [\"l\",\"u\"])\n",
    "    return ans"
   ]
  },
  {
   "cell_type": "code",
   "execution_count": null,
   "metadata": {
    "collapsed": true
   },
   "outputs": [],
   "source": [
    "A = np.array([10.0])\n",
    "B = np.array()"
   ]
  }
 ],
 "metadata": {
  "kernelspec": {
   "display_name": "Python 3",
   "language": "python",
   "name": "python3"
  },
  "language_info": {
   "codemirror_mode": {
    "name": "ipython",
    "version": 3
   },
   "file_extension": ".py",
   "mimetype": "text/x-python",
   "name": "python",
   "nbconvert_exporter": "python",
   "pygments_lexer": "ipython3",
   "version": "3.6.2"
  }
 },
 "nbformat": 4,
 "nbformat_minor": 2
}
