{
 "cells": [
  {
   "cell_type": "code",
   "execution_count": 1,
   "metadata": {
    "collapsed": true
   },
   "outputs": [],
   "source": [
    "import numpy as np\n",
    "from node import Node\n",
    "\n",
    "L1 = 4\n",
    "L2 = 4\n",
    "D = 8\n",
    "\n",
    "#   u\n",
    "# l   r\n",
    "#   d\n",
    "\n",
    "def _node(s):\n",
    "    l = [D]*len(s)\n",
    "    l.append(2)\n",
    "    return Node(list(s)+[\"p\"],l)\n",
    "\n",
    "def node_in_lattice(i,j):\n",
    "    s = \"udrl\"\n",
    "    if i == 0:\n",
    "        s = s.replace(\"u\",\"\")\n",
    "    if i == L1-1:\n",
    "        s = s.replace(\"d\",\"\")\n",
    "    if j == 0:\n",
    "        s = s.replace(\"l\",\"\")\n",
    "    if j == L2-1:\n",
    "        s = s.replace(\"r\",\"\")\n",
    "    return _node(s)\n",
    "\n",
    "lattice = [[node_in_lattice(i,j) for j in range(L2)] for i in range(L1)]\n",
    "\n",
    "ep = 0.1\n",
    "\n",
    "H = np.reshape([[0.25,0,0,0],[0,-0.25,0.5,0],[0,0.5,-0.25,0],[0,0,0,0.25]],[2,2,2,2])\n",
    "I = np.reshape(np.identity(4),[2,2,2,2])\n",
    "Energy = []"
   ]
  },
  {
   "cell_type": "code",
   "execution_count": 14,
   "metadata": {
    "collapsed": true
   },
   "outputs": [],
   "source": [
    "ep = 0.01\n",
    "expH = I - ep*H\n",
    "for t in range(100):\n",
    "    for i in range(0,L1):\n",
    "        for j in range(0,L2-1,2):\n",
    "            Node.update(lattice[i][j],lattice[i][j+1],\"r\",\"l\",\"p\",\"p\",expH)\n",
    "    for i in range(0,L1):\n",
    "        for j in range(1,L2-1,2):\n",
    "            Node.update(lattice[i][j],lattice[i][j+1],\"r\",\"l\",\"p\",\"p\",expH)\n",
    "    for j in range(0,L2):\n",
    "        for i in range(0,L1-1,2):\n",
    "            Node.update(lattice[i][j],lattice[i+1][j],\"d\",\"u\",\"p\",\"p\",expH)\n",
    "    for j in range(0,L2):\n",
    "        for i in range(1,L1-1,2):\n",
    "            Node.update(lattice[i][j],lattice[i+1][j],\"d\",\"u\",\"p\",\"p\",expH)\n",
    "    if t % 10 == 0:\n",
    "        latt = [[Node.copy(j) for j in i]for i in lattice]\n",
    "        tmp = Node([], [], data = [1], normf=False)\n",
    "        for i,x in enumerate(latt):\n",
    "            for j,y in enumerate(x):\n",
    "                for k in [\"u\",\"d\",\"r\",\"l\",\"p\"]:\n",
    "                    if k in y.tags:\n",
    "                        y.rename_leg({k:k+str(i)+str(j)})\n",
    "        for i,j in enumerate(latt):\n",
    "            for k,p in enumerate(j):\n",
    "                tags1 = []\n",
    "                tags2 = []\n",
    "                if (i-1) in range(4):\n",
    "                    tags1.append(\"d%s%s\"%(str(i-1),str(k)))\n",
    "                    tags2.append(\"u%s%s\"%(str(i),str(k)))\n",
    "                if (k-1) in range(4):\n",
    "                    tags1.append(\"r%s%s\"%(str(i),str(k-1)))\n",
    "                    tags2.append(\"l%s%s\"%(str(i),str(k)))\n",
    "                tmp = Node.contract(tmp, tags1, p, tags2)\n",
    "        norm = Node.contract(tmp, [\"p%s%s\" % (str(i),str(j)) for j in range(4) for i in range(4)] \\\n",
    "                             , tmp, [\"p%s%s\" % (str(i),str(j)) for j in range(4) for i in range(4)])\n",
    "        H_ = Node([\"d1\",\"d2\",\"u1\",\"u2\"], [2,2,2,2], np.array(H), normf=False)\n",
    "        E = np.array([0.0])\n",
    "        for i in range(4):\n",
    "            for j in range(3):\n",
    "                tmp2 = Node.contract(tmp, [\"p%s%s\"%(str(i),str(j)), \"p%s%s\"%(str(i),str(j+1))], H_, [\"d1\",\"d2\"], {}, \\\n",
    "                                     {\"u1\":\"p%s%s\"%(str(i),str(j)),\"u2\":\"p%s%s\"%(str(i),str(j+1))})\n",
    "                tmp2 = Node.contract(tmp2, [\"p%s%s\" % (str(p),str(q)) for p in range(4) for q in range(4)], tmp, \\\n",
    "                                     [\"p%s%s\" % (str(p),str(q)) for p in range(4) for q in range(4)])\n",
    "                E += tmp2.data / norm.data\n",
    "                tmp2 = Node.contract(tmp, [\"p%s%s\"%(str(j),str(i)), \"p%s%s\"%(str(j+1),str(i))], H_, [\"d1\",\"d2\"], {}, \\\n",
    "                                     {\"u1\":\"p%s%s\"%(str(j),str(i)),\"u2\":\"p%s%s\"%(str(j+1),str(i))})\n",
    "                tmp2 = Node.contract(tmp2, [\"p%s%s\" % (str(p),str(q)) for p in range(4) for q in range(4)], tmp, \\\n",
    "                                     [\"p%s%s\" % (str(p),str(q)) for p in range(4) for q in range(4)])\n",
    "                E += tmp2.data / norm.data\n",
    "        Energy.append(E.tolist()[0] / 16)"
   ]
  },
  {
   "cell_type": "code",
   "execution_count": 15,
   "metadata": {},
   "outputs": [
    {
     "data": {
      "image/png": "[encoded data removed]",
      "text/plain": [
       "<matplotlib.figure.Figure at 0x7ffaf0e0eb00>"
      ]
     },
     "metadata": {},
     "output_type": "display_data"
    }
   ],
   "source": [
    "plt.plot(Energy)\n",
    "plt.show()"
   ]
  },
  {
   "cell_type": "code",
   "execution_count": 16,
   "metadata": {},
   "outputs": [
    {
     "data": {
      "text/plain": [
       "-0.5650349632522405"
      ]
     },
     "execution_count": 16,
     "metadata": {},
     "output_type": "execute_result"
    }
   ],
   "source": [
    "Energy[-1]"
   ]
  },
  {
   "cell_type": "code",
   "execution_count": 4,
   "metadata": {
    "collapsed": true
   },
   "outputs": [],
   "source": [
    "import matplotlib.pyplot as plt"
   ]
  },
  {
   "cell_type": "code",
   "execution_count": 10,
   "metadata": {
    "collapsed": true
   },
   "outputs": [],
   "source": [
    "Energy = []"
   ]
  },
  {
   "cell_type": "code",
   "execution_count": null,
   "metadata": {
    "collapsed": true
   },
   "outputs": [],
   "source": []
  }
 ],
 "metadata": {
  "kernelspec": {
   "display_name": "Python 3",
   "language": "python",
   "name": "python3"
  },
  "language_info": {
   "codemirror_mode": {
    "name": "ipython",
    "version": 3
   },
   "file_extension": ".py",
   "mimetype": "text/x-python",
   "name": "python",
   "nbconvert_exporter": "python",
   "pygments_lexer": "ipython3",
   "version": "3.6.2"
  }
 },
 "nbformat": 4,
 "nbformat_minor": 2
}
